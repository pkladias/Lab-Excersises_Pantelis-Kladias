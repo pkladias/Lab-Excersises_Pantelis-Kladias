{
 "cells": [
  {
   "cell_type": "markdown",
   "id": "4bd643d7",
   "metadata": {},
   "source": [
    "## Question 1"
   ]
  },
  {
   "cell_type": "code",
   "execution_count": 1,
   "id": "6481190e",
   "metadata": {},
   "outputs": [],
   "source": [
    "list = [\"apple\", \"chestnut\", \"gargoyle\", \"pandas\", \"sheep\", \"raptor\"]"
   ]
  },
  {
   "cell_type": "code",
   "execution_count": 2,
   "id": "1e3c6ad1",
   "metadata": {},
   "outputs": [
    {
     "name": "stdout",
     "output_type": "stream",
     "text": [
      "5\n",
      "8\n",
      "8\n",
      "6\n",
      "5\n",
      "6\n"
     ]
    }
   ],
   "source": [
    "for i in list:\n",
    "    print(len(i))"
   ]
  },
  {
   "cell_type": "code",
   "execution_count": 3,
   "id": "06df9896",
   "metadata": {},
   "outputs": [],
   "source": [
    "def longestword(x):\n",
    "    ## begin comparison with x[0]\n",
    "    word_length = len(x[0])\n",
    "    longestword =x[0]\n",
    "    longestword2 = x[0]\n",
    "    for i in x:\n",
    "        if len(i) > word_length:\n",
    "            word_length = len(i)\n",
    "            longestword = i\n",
    "        if len(i) == word_length:\n",
    "            longestword2 = i\n",
    "    print(\"The word/words with the longest length is/are:\", longestword + \" \" + longestword2,)\n",
    "            "
   ]
  },
  {
   "cell_type": "code",
   "execution_count": 4,
   "id": "f48181d0",
   "metadata": {},
   "outputs": [
    {
     "name": "stdout",
     "output_type": "stream",
     "text": [
      "The word/words with the longest length is/are: chestnut gargoyle\n"
     ]
    }
   ],
   "source": [
    "longestword(list)"
   ]
  },
  {
   "cell_type": "markdown",
   "id": "c3caeb42",
   "metadata": {},
   "source": [
    "## Question 2"
   ]
  },
  {
   "cell_type": "code",
   "execution_count": 5,
   "id": "362f7388",
   "metadata": {},
   "outputs": [],
   "source": [
    "my_list = []\n",
    "my_words = open(\"words_lab 1.txt\") \n",
    "for word in my_words.read().split():\n",
    "        my_list.append(word)"
   ]
  },
  {
   "cell_type": "code",
   "execution_count": 6,
   "id": "8f329aaa",
   "metadata": {},
   "outputs": [
    {
     "data": {
      "text/plain": [
       "['drawing',\n",
       " 'recover',\n",
       " 'holiday',\n",
       " 'ghost',\n",
       " 'galaxy',\n",
       " 'certain',\n",
       " 'hell',\n",
       " 'vessel',\n",
       " 'reflection',\n",
       " 'prayer',\n",
       " 'feedback',\n",
       " 'survival',\n",
       " 'dressing',\n",
       " 'expose',\n",
       " 'vegetation',\n",
       " 'breakdown',\n",
       " 'dose',\n",
       " 'deadly',\n",
       " 'surface',\n",
       " 'center']"
      ]
     },
     "execution_count": 6,
     "metadata": {},
     "output_type": "execute_result"
    }
   ],
   "source": [
    "my_list"
   ]
  },
  {
   "cell_type": "code",
   "execution_count": 7,
   "id": "8d4ee4c9",
   "metadata": {},
   "outputs": [],
   "source": [
    "import random"
   ]
  },
  {
   "cell_type": "code",
   "execution_count": 8,
   "id": "14fb1cca",
   "metadata": {},
   "outputs": [
    {
     "name": "stdout",
     "output_type": "stream",
     "text": [
      "['dose', 'vegetation', 'galaxy', 'surface', 'recover', 'survival', 'holiday']\n"
     ]
    }
   ],
   "source": [
    "my_random_sample = (random.sample(my_list, 7))\n",
    "print(my_random_sample)"
   ]
  },
  {
   "cell_type": "code",
   "execution_count": 9,
   "id": "ebbbdac1",
   "metadata": {},
   "outputs": [],
   "source": [
    "def longestword2(x):\n",
    "    word_length = len(x[0])\n",
    "    longestword =x[0]\n",
    "    for i in x:\n",
    "        if len(i) >word_length:\n",
    "            word_length = len(i)\n",
    "            longestword = i\n",
    "    print(longestword)"
   ]
  },
  {
   "cell_type": "code",
   "execution_count": 10,
   "id": "727909e1",
   "metadata": {},
   "outputs": [
    {
     "name": "stdout",
     "output_type": "stream",
     "text": [
      "vegetation\n"
     ]
    }
   ],
   "source": [
    "longestword2(my_random_sample)"
   ]
  },
  {
   "cell_type": "markdown",
   "id": "b7fc5dbc",
   "metadata": {},
   "source": [
    "## Question 3"
   ]
  },
  {
   "cell_type": "code",
   "execution_count": 11,
   "id": "8205a86a",
   "metadata": {},
   "outputs": [],
   "source": [
    "mydict = {'Name': 'Frodo', 'Age':33, 'Race': 'Hobbit', 'Task': 'Reach Mount Doom'}"
   ]
  },
  {
   "cell_type": "code",
   "execution_count": 12,
   "id": "30bce290",
   "metadata": {},
   "outputs": [
    {
     "data": {
      "text/plain": [
       "dict_keys(['Name', 'Age', 'Race', 'Task'])"
      ]
     },
     "execution_count": 12,
     "metadata": {},
     "output_type": "execute_result"
    }
   ],
   "source": [
    "(mydict.keys())"
   ]
  },
  {
   "cell_type": "code",
   "execution_count": 13,
   "id": "fb4fd42a",
   "metadata": {},
   "outputs": [
    {
     "data": {
      "text/plain": [
       "'Frodo'"
      ]
     },
     "execution_count": 13,
     "metadata": {},
     "output_type": "execute_result"
    }
   ],
   "source": [
    "mydict.get('Name')"
   ]
  },
  {
   "cell_type": "code",
   "execution_count": 14,
   "id": "77021937",
   "metadata": {},
   "outputs": [
    {
     "data": {
      "text/plain": [
       "'Reach Mount Doom'"
      ]
     },
     "execution_count": 14,
     "metadata": {},
     "output_type": "execute_result"
    }
   ],
   "source": [
    "mydict.pop('Task')"
   ]
  },
  {
   "cell_type": "code",
   "execution_count": 15,
   "id": "d061b88c",
   "metadata": {},
   "outputs": [
    {
     "data": {
      "text/plain": [
       "dict_values(['Frodo', 33, 'Hobbit'])"
      ]
     },
     "execution_count": 15,
     "metadata": {},
     "output_type": "execute_result"
    }
   ],
   "source": [
    "mydict.values()"
   ]
  },
  {
   "cell_type": "markdown",
   "id": "738c786f",
   "metadata": {},
   "source": [
    "## Question 4"
   ]
  },
  {
   "cell_type": "markdown",
   "id": "ba9b9023",
   "metadata": {},
   "source": [
    "I used __init__ constructor to assign values to the data that we need for the class object. I use name, student_id, and phone number as a way to identify and keep track of the different students. I included variables, course1grade, course2grade, course3grade, in order to keep track of the students grade. I then calculated the students average and assigned it to self and then did the same for gpa."
   ]
  },
  {
   "cell_type": "code",
   "execution_count": 16,
   "id": "f5dd1d4c",
   "metadata": {},
   "outputs": [],
   "source": [
    "class Person:\n",
    "    \n",
    "      def __init__(self, name, student_id, phone_number, course1grade, course2grade, course3grade,):\n",
    "        self.name = name\n",
    "        self.student_id = student_id\n",
    "        self.phone_number = phone_number\n",
    "        self.course1grade = course1grade\n",
    "        self.course2grade = course2grade\n",
    "        self.course3grade = course3grade\n",
    "        self.average = (self.course1grade +self.course2grade +self.course3grade)/3\n",
    "        if self.average >=90:\n",
    "            self.gpa = 4.0\n",
    "        if 90 > self.average >85:\n",
    "            self.gpa = 3.5\n",
    "        if 85 > self.average >80:\n",
    "            self.gpa = 3.0\n",
    "        if 80 > self.average >75:\n",
    "            self.gpa = 2.5\n",
    "        if 75 > self.average >70:\n",
    "            self.gpa = 2.0"
   ]
  },
  {
   "cell_type": "code",
   "execution_count": 17,
   "id": "e6e59a51",
   "metadata": {},
   "outputs": [
    {
     "data": {
      "text/plain": [
       "87.33333333333333"
      ]
     },
     "execution_count": 17,
     "metadata": {},
     "output_type": "execute_result"
    }
   ],
   "source": [
    "student1 = Person(\"Peter\", \"550\", '6073613264', 87, 90, 85)\n",
    "student1.average "
   ]
  },
  {
   "cell_type": "code",
   "execution_count": 18,
   "id": "38b9acb8",
   "metadata": {},
   "outputs": [
    {
     "data": {
      "text/plain": [
       "3.5"
      ]
     },
     "execution_count": 18,
     "metadata": {},
     "output_type": "execute_result"
    }
   ],
   "source": [
    "student1.gpa"
   ]
  },
  {
   "cell_type": "markdown",
   "id": "7c413ffb",
   "metadata": {},
   "source": [
    "## Question 5"
   ]
  },
  {
   "cell_type": "code",
   "execution_count": 19,
   "id": "6139813a",
   "metadata": {},
   "outputs": [],
   "source": [
    "import random"
   ]
  },
  {
   "cell_type": "code",
   "execution_count": 20,
   "id": "40e611ff",
   "metadata": {},
   "outputs": [],
   "source": [
    "my_list = ['hello', 'cat', 'dog', 'yellow', 'green', 'log', 'gang']"
   ]
  },
  {
   "cell_type": "code",
   "execution_count": 21,
   "id": "b3cea4d5",
   "metadata": {},
   "outputs": [],
   "source": [
    "solution = random.choice(my_list)"
   ]
  },
  {
   "cell_type": "code",
   "execution_count": 22,
   "id": "b9478cfa",
   "metadata": {},
   "outputs": [],
   "source": [
    "number_of_guesses=10\n",
    "guesses = \"\""
   ]
  },
  {
   "cell_type": "code",
   "execution_count": null,
   "id": "05725796",
   "metadata": {},
   "outputs": [],
   "source": [
    "while number_of_guesses >0:\n",
    "    guess_letter = input(\"What letter is your guess (please input only lowercase letters):  \")\n",
    "    if guess_letter in solution:\n",
    "        print(f'correct letter There are one or more {guess_letter} in the word')\n",
    "    else:\n",
    "        number_of_guesses -=1\n",
    "        print(f' Incorrect. The number of guesses left is {number_of_guesses}')\n",
    "    guesses = guesses + guess_letter\n",
    "    wrongletters = 0\n",
    "    for letter in solution:\n",
    "        if letter in guesses:\n",
    "            print(f\"{letter}\",end=\"\")\n",
    "        else:\n",
    "            print(\"_\",end=\"\")\n",
    "            wrongletters +=1\n",
    "    if wrongletters ==0:\n",
    "        print(f'Congratulations The solutution was {solution}')\n",
    "        break\n",
    "else:\n",
    "    print('Sorry you lost')\n",
    "            "
   ]
  },
  {
   "cell_type": "code",
   "execution_count": null,
   "id": "5a70deff",
   "metadata": {},
   "outputs": [],
   "source": []
  }
 ],
 "metadata": {
  "kernelspec": {
   "display_name": "Python 3 (ipykernel)",
   "language": "python",
   "name": "python3"
  },
  "language_info": {
   "codemirror_mode": {
    "name": "ipython",
    "version": 3
   },
   "file_extension": ".py",
   "mimetype": "text/x-python",
   "name": "python",
   "nbconvert_exporter": "python",
   "pygments_lexer": "ipython3",
   "version": "3.9.12"
  }
 },
 "nbformat": 4,
 "nbformat_minor": 5
}
